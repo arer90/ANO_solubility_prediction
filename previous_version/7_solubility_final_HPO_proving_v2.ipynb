{
 "cells": [
  {
   "cell_type": "markdown",
   "metadata": {},
   "source": [
    "# 7\_solubility\_final\_HPO\_proving\n",
    "최종 하이퍼파라미터 최적화(HP) 실험을 위한 노트북입니다.\n",
    "4\_ANO\_feature와 6\_ANO\_network\_[fea\_struc]의 최적 결과를 불러와 하나의 모델로 통합합니다."
   ]
  },
  {
   "cell_type": "code",
   "execution_count": null,
   "metadata": {},
   "outputs": [],
   "source": [
    "import numpy as np\n",
    "import pandas as pd\n",
    "import tensorflow as tf\n",
    "from tensorflow import keras\n",
    "from extra_code.feature_search import generating_newfps\n",
    "from extra_code.learning_process import clear_gpu_memory\n",
    "import gc"
   ]
  },
  {
   "cell_type": "code",
   "execution_count": null,
   "metadata": {},
   "outputs": [],
   "source": [
    "# 이전 단계에서 저장된 최적 feature 선택 결과를 로드합니다.\n",
    "best_features = np.load('result/6_ANO_network_[fea_struc]/best_features.npy')\n",
    "dataset = pd.read_csv('data/ws496_logS.csv')\n",
    "x = dataset['SMILES']\n",
    "y = dataset['logS']\n",
    "# 필요한 descriptor 계산 후 한번에 결합\n",
    "descriptor_list = []\n",
    "# ... (descriptor 계산 로직) ...\n",
    "fps = np.asarray(descriptor_list).T\n",
    "x_all = np.concatenate([best_features, fps], axis=1)\n",
    "del descriptor_list, fps\n",
    "gc.collect()"
   ]
  },
  {
   "cell_type": "code",
   "execution_count": null,
   "metadata": {},
   "outputs": [],
   "source": [
    "# 최적 신경망 구조 로드 및 학습\n",
    "model = keras.models.load_model('result/6_ANO_network_[fea_struc]/best_model.h5')\n",
    "model.fit(x_all, y, epochs=100, batch_size=32, verbose=0)\n",
    "model.save('result/final_model.h5')\n",
    "clear_gpu_memory()"
   ]
  },
  {
   "cell_type": "markdown",
   "metadata": {},
   "source": [
    "## XAI 분석 예시\n",
    "SHAP 값을 이용해 각 descriptor가 예측에 미치는 영향을 시각화할 수 있습니다."
   ]
  },
  {
   "cell_type": "code",
   "execution_count": null,
   "metadata": {},
   "outputs": [],
   "source": [
    "import shap\n",
    "explainer = shap.KernelExplainer(model.predict, x_all[:100])\n",
    "shap_values = explainer.shap_values(x_all[:100])\n",
    "shap.summary_plot(shap_values, x_all[:100])"
   ]
  }
 ],
 "metadata": {
  "kernelspec": {
   "display_name": "Python 3",
   "language": "python",
   "name": "python3"
  },
  "language_info": {
   "name": "python",
   "version": "3.11"
  }
 },
 "nbformat": 4,
 "nbformat_minor": 5
}
